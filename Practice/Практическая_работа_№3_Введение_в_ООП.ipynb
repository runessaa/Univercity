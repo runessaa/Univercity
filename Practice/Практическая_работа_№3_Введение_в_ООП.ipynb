{
  "nbformat": 4,
  "nbformat_minor": 0,
  "metadata": {
    "colab": {
      "provenance": [],
      "include_colab_link": true
    },
    "kernelspec": {
      "name": "python3",
      "display_name": "Python 3"
    },
    "language_info": {
      "name": "python"
    }
  },
  "cells": [
    {
      "cell_type": "markdown",
      "metadata": {
        "id": "view-in-github",
        "colab_type": "text"
      },
      "source": [
        "<a href=\"https://colab.research.google.com/github/runessaa/Univercity/blob/main/Practice/%D0%9F%D1%80%D0%B0%D0%BA%D1%82%D0%B8%D1%87%D0%B5%D1%81%D0%BA%D0%B0%D1%8F_%D1%80%D0%B0%D0%B1%D0%BE%D1%82%D0%B0_%E2%84%963_%D0%92%D0%B2%D0%B5%D0%B4%D0%B5%D0%BD%D0%B8%D0%B5_%D0%B2_%D0%9E%D0%9E%D0%9F.ipynb\" target=\"_parent\"><img src=\"https://colab.research.google.com/assets/colab-badge.svg\" alt=\"Open In Colab\"/></a>"
      ]
    },
    {
      "cell_type": "markdown",
      "source": [
        "# **Практическая работа №3. Введение в ООП**\n",
        "\n",
        "\n"
      ],
      "metadata": {
        "id": "s-EuQCpnWXCn"
      }
    },
    {
      "cell_type": "markdown",
      "source": [
        "## **Задание №1. Создайте класс Sphere для представления сферы в трехмерном пространстве**\n"
      ],
      "metadata": {
        "id": "TQ5SpdjdbD4D"
      }
    },
    {
      "cell_type": "markdown",
      "source": [
        "Обеспечьте следующие методы класса:\n",
        "\n",
        "1. Конструктор, принимающий 4 действительных числа: радиус, и 3 координаты центра шара. Если конструктор вызывается без аргументов, создать объект сферы с единичным радиусом и центром в начале координат. Если конструктор вызывается с аргументом, создать объект сферы с соответствующим радиусом и центром в начале координат.\n",
        "\n",
        "2. Метод get_volume (), который возвращает действительное число — объем шара, ограниченной текущей сферой.\n",
        "\n",
        "3. Метод get_square (), который возвращает действительное число — площадь внешней поверхности сферы.\n",
        "\n",
        "4. Метод get_radius (), который возвращает действительное число — радиус сферы.\n",
        "\n",
        "5. Метод get_center (), который возвращает тьюпл с 3 действительными числами — координатами центра сферы в том же порядке, в каком они задаются в конструкторе.\n",
        "\n",
        "6. Метод set_radius (r), который принимает 1 аргумент — действительное число, и меняет радиус текущей сферы, ничего не возвращая.\n",
        "\n",
        "7. Метод set_center (x, y, z), который принимает 3 аргумента — действительных числа, и меняет координаты центра сферы, ничего не возвращая. Координаты задаются в том же порядке, что и в конструкторе.\n",
        "\n",
        "8. Метод is_point_inside (x, y, z), который принимает 3 аргумента — действительных числа — координаты некоторой точки в пространстве (в том же порядке, что и в конструкторе), и возвращает логическое значение True или False в зависимости от того, находится эта точка внутри сферы."
      ],
      "metadata": {
        "id": "Q5Ow51wfASZH"
      }
    },
    {
      "cell_type": "code",
      "source": [
        "import math\n",
        "class Sphere:\n",
        "  def __init__(self, radius=1.0, x=0.0, y=0.0, z=0.0):\n",
        "    self.radius = radius\n",
        "    self.center = (x, y, z)\n",
        "  def get_volume(self):\n",
        "    return (4/3)*math.pi*(self.radius**3)\n",
        "  def get_square(self):\n",
        "    return 4*math.pi*(self.radius**2)\n",
        "  def get_radius(self):\n",
        "    return self.radius\n",
        "  def get_center(self):\n",
        "    return self.center\n",
        "  def set_radius(self, r):\n",
        "    self.radius = r\n",
        "  def set_center(self, x, y, z):\n",
        "    self.center = (x, y, z)\n",
        "  def is_point_inside(self, x, y, z):\n",
        "    center_x, center_y, center_z = self.center\n",
        "    distance_squared = (x-center_x)**2+(y-center_y)**2+(z-center_z)**2\n",
        "    return distance_squared < (self.radius**2)"
      ],
      "metadata": {
        "id": "d-vd-AYRdBId"
      },
      "execution_count": null,
      "outputs": []
    },
    {
      "cell_type": "code",
      "source": [
        "# Тесты\n",
        "\n",
        "s0 = Sphere(0.5) # test sphere creation with radius and default center\n",
        "print(s0.get_center()) # (0.0, 0.0, 0.0)\n",
        "print(s0.get_volume()) # 0.523598775598\n",
        "print(s0.is_point_inside(0 , -1.5, 0)) # False\n",
        "s0.set_radius(1.6)\n",
        "print(s0.is_point_inside(0, -1.5, 0)) # True\n",
        "print(s0.get_radius()) # 1.6"
      ],
      "metadata": {
        "id": "xYx3bR2Lbv42",
        "outputId": "d0c05e01-e2e8-4bc4-e8fc-60da542e0b3f",
        "colab": {
          "base_uri": "https://localhost:8080/"
        }
      },
      "execution_count": null,
      "outputs": [
        {
          "output_type": "stream",
          "name": "stdout",
          "text": [
            "(0.0, 0.0, 0.0)\n",
            "0.5235987755982988\n",
            "False\n",
            "True\n",
            "1.6\n"
          ]
        }
      ]
    },
    {
      "cell_type": "markdown",
      "source": [
        "## **Задание №2. Создайте класс SuperStr, который наследует стандартный класс str и содержит 2 новых метода:**"
      ],
      "metadata": {
        "id": "UuJ9K_zAcaY_"
      }
    },
    {
      "cell_type": "markdown",
      "source": [
        "1. Метод is_repeatance (s), который принимает 1 аргумент s и возвращает True или False в зависимости от того, может ли текущая строку быть получена целым количеством повторов строки s. Вернуть False, если s не является строкой. Считать, что пустая строка не содержит повторов.\n",
        "\n",
        "2. Метод is_palindrom (), который возвращает True или False в зависимости от того, является ли строка [палиндромом](https://ru.wikipedia.org/wiki/Палиндром). Регистрами символов пренебрегать. Пустую строку считать палиндромом."
      ],
      "metadata": {
        "id": "GX99X81VchPW"
      }
    },
    {
      "cell_type": "code",
      "source": [
        "class SuperStr(str):\n",
        "  def is_repeatance(self, s):\n",
        "    if not isinstance(s, str):\n",
        "      return False\n",
        "    if len(s) == 0:\n",
        "      return False\n",
        "    return len(self)%len(s) == 0 and self == s*(len(self)//len(s))\n",
        "  def is_palindrom(self):\n",
        "    normalized_str = self.lower()\n",
        "    return normalized_str == normalized_str[::-1]"
      ],
      "metadata": {
        "id": "LtIAKDWFdEcr"
      },
      "execution_count": null,
      "outputs": []
    },
    {
      "cell_type": "code",
      "source": [
        "# Тесты\n",
        "\n",
        "s = SuperStr(\"123123123123\")\n",
        "print(s.is_repeatance(\"123\")) # True\n",
        "print(s.is_repeatance(\"123123\")) # True\n",
        "print(s.is_repeatance(\"123123123123\")) # True\n",
        "print(s.is_repeatance(\"12312\")) # False\n",
        "print(s.is_repeatance(123)) # False\n",
        "print(s.is_palindrom()) # False\n",
        "print(s) # 123123123123 (строка)\n",
        "print(int(s)) # 123123123123 (целое число)\n",
        "print(s + \"qwe\") # 123123123123qwe\n",
        "p = SuperStr(\"123_321\")\n",
        "print(p.is_palindrom()) # True"
      ],
      "metadata": {
        "id": "oRO3alwicoNp",
        "outputId": "e393802f-6d59-4012-ade3-a9e05680c2dc",
        "colab": {
          "base_uri": "https://localhost:8080/"
        }
      },
      "execution_count": null,
      "outputs": [
        {
          "output_type": "stream",
          "name": "stdout",
          "text": [
            "True\n",
            "True\n",
            "True\n",
            "False\n",
            "False\n",
            "False\n",
            "123123123123\n",
            "123123123123\n",
            "123123123123qwe\n",
            "True\n"
          ]
        }
      ]
    },
    {
      "cell_type": "markdown",
      "source": [
        "## **Задание №3. В коде ниже представлен класс преподавателей и класс студентов (вы можете взять этот код за основу или написать свой).**"
      ],
      "metadata": {
        "id": "m9EGwLY9jZbw"
      }
    },
    {
      "cell_type": "code",
      "source": [
        "class Student:\n",
        "    def __init__(self, name, surname, gender):\n",
        "        self.name = name\n",
        "        self.surname = surname\n",
        "        self.gender = gender\n",
        "        self.finished_courses = []\n",
        "        self.courses_in_progress = []\n",
        "        self.grades = {}\n",
        "\n",
        "    def add_courses(self, course_name):\n",
        "        self.finished_courses.append(course_name)\n",
        "\n",
        "\n",
        "class Mentor:\n",
        "    def __init__(self, name, surname):\n",
        "        self.name = name\n",
        "        self.surname = surname\n",
        "        self.courses_attached = []\n",
        "\n",
        "    def rate_hw(self, student, course, grade):\n",
        "        student.grades[course] = [grade]"
      ],
      "metadata": {
        "id": "PlqK9m7KrT6e"
      },
      "execution_count": null,
      "outputs": []
    },
    {
      "cell_type": "code",
      "source": [
        "best_student = Student('Ruoy', 'Eman', 'your_gender')\n",
        "cool_mentor = Mentor('Some', 'Buddy')\n",
        "cool_mentor.rate_hw(best_student, 'Python', 10)\n",
        "\n",
        "print(\"Имя студента: \", best_student.name)\n",
        "print(\"Имя преподавателя: \", cool_mentor.name)\n",
        "print(\"Оценки студента по курсам: \", best_student.grades)"
      ],
      "metadata": {
        "colab": {
          "base_uri": "https://localhost:8080/"
        },
        "id": "oNc1-dVaw3ee",
        "outputId": "7621e159-5ac4-48a7-8318-886013ba7692"
      },
      "execution_count": null,
      "outputs": [
        {
          "output_type": "stream",
          "name": "stdout",
          "text": [
            "Имя студента:  Ruoy\n",
            "Имя преподавателя:  Some\n",
            "Оценки студента по курсам:  {'Python': [10]}\n"
          ]
        }
      ]
    },
    {
      "cell_type": "markdown",
      "source": [
        "### **3.1. Наследование**"
      ],
      "metadata": {
        "id": "08FkYxULrxE-"
      }
    },
    {
      "cell_type": "markdown",
      "source": [
        "* Класс Mentor должен стать родительским классом для преподавателей. От него нужно реализовать наследование классов Lecturer (лекторы) и Reviewer (эксперты, проверяющие домашние задания).\n",
        "\n",
        "> Имя, фамилю и список закрепленных курсов логично реализовать на уровне родительского класса."
      ],
      "metadata": {
        "id": "YNjsCv5ItOii"
      }
    },
    {
      "cell_type": "code",
      "source": [
        "class Student:\n",
        "  def __init__(self, name, surname, gender):\n",
        "    self.name = name\n",
        "    self.surname = surname\n",
        "    self.gender = gender\n",
        "    self.finished_courses = []\n",
        "    self.courses_in_progress = []\n",
        "    self.grades = {}\n",
        "\n",
        "  def add_courses(self, course_name):\n",
        "    self.finished_courses.append(course_name)\n",
        "\n",
        "class Mentor:\n",
        "  def __init__(self, name: str, surname: str, pinned_courses: list = None):\n",
        "    if pinned_courses is None:\n",
        "        pinned_courses = []\n",
        "    self.name = name\n",
        "    self.surname = surname\n",
        "    self.pinned_courses = pinned_courses\n",
        "\n",
        "  def rate_hw(self, student: Student, course: str, grade: int):\n",
        "    if course in student.grades:\n",
        "        student.grades[course].append(grade)\n",
        "    else:\n",
        "        student.grades[course] = [grade]\n",
        "class Lecturer(Mentor):\n",
        "  pass\n",
        "\n",
        "class Reviewer(Mentor):\n",
        "  pass\n",
        "\n",
        "best_student = Student('Ruoy', 'Eman', 'your_gender')\n",
        "cool_mentor = Mentor('Some', 'Buddy')\n",
        "\n",
        "cool_mentor.rate_hw(best_student, 'Python', 10)\n",
        "\n",
        "print(\"Имя студента: \", best_student.name)\n",
        "print(\"Имя преподавателя: \", cool_mentor.name)\n",
        "print(\"Оценки студента по курсам: \", best_student.grades)"
      ],
      "metadata": {
        "id": "1quZPRZKtIoc",
        "outputId": "5515ec5b-c148-4d72-a871-38f1c213409f",
        "colab": {
          "base_uri": "https://localhost:8080/"
        }
      },
      "execution_count": null,
      "outputs": [
        {
          "output_type": "stream",
          "name": "stdout",
          "text": [
            "Имя студента:  Ruoy\n",
            "Имя преподавателя:  Some\n",
            "Оценки студента по курсам:  {'Python': [10]}\n"
          ]
        }
      ]
    },
    {
      "cell_type": "markdown",
      "source": [
        "### **3.2. Атрибуты и взаимодействие классов**"
      ],
      "metadata": {
        "id": "oL8kB-uUtH5K"
      }
    },
    {
      "cell_type": "markdown",
      "source": [
        "* Реализуйте возможность проставления оценок студентам только Reviewer-ам (реализуйте такой метод).\n",
        "\n",
        "* Реализуйте метод выставления оценок лекторам у класса Student (оценки по 10-балльной шкале, хранятся в атрибуте-словаре у Lecturer, в котором ключи – названия курсов, а значения – списки оценок). Лектор при этом должен быть закреплен за тем курсом, на который записан студент (реализовать проверку)."
      ],
      "metadata": {
        "id": "ddcuJFCksWsY"
      }
    },
    {
      "cell_type": "code",
      "source": [
        "class Course:\n",
        "  def __init__(self, lecturer, course_code):\n",
        "    self.lecturer = lecturer\n",
        "    self.course_code = course_code\n",
        "    self.student_list = []\n",
        "    self.finished = False\n",
        "    self.lecturer.courses_attached.append(self.course_code)\n",
        "\n",
        "  def code(self):\n",
        "    return self.course_code\n",
        "\n",
        "  def instructor(self):\n",
        "    return self.lecturer\n",
        "\n",
        "  def is_course_finished(self):\n",
        "    return self.finished\n",
        "\n",
        "  def finish_course(self):\n",
        "    self.finished = True\n",
        "\n",
        "  def list_students(self):\n",
        "    return self.student_list\n",
        "\n",
        "  def add_student(self, student):\n",
        "    if student not in self.student_list:\n",
        "        self.student_list.append(student)\n",
        "\n",
        "class Student:\n",
        "  def __init__(self, name, surname, gender):\n",
        "    self.name = name\n",
        "    self.surname = surname\n",
        "    self.gender = gender\n",
        "    self.courses = []\n",
        "    self.grades = {}\n",
        "\n",
        "  def add_courses(self, course):\n",
        "    course.add_student(self)\n",
        "    self.courses.append(course)\n",
        "\n",
        "  def get_grades(self, course):\n",
        "    return self.grades.get(course.code(), [])\n",
        "\n",
        "  def get_courses(self):\n",
        "    return self.courses\n",
        "\n",
        "  def get_name(self):\n",
        "    return self.name\n",
        "\n",
        "  def get_surname(self):\n",
        "    return self.surname\n",
        "\n",
        "  def rate_lecturer(self, lecturer, course, grade):\n",
        "    if course in self.courses and course.code() in lecturer.courses_attached:\n",
        "        if course.code() not in lecturer.grades:\n",
        "            lecturer.grades[course.code()] = []\n",
        "        lecturer.grades[course.code()].append(grade)\n",
        "    else:\n",
        "        print('Ошибка, лектор не привязан к курсу, на который записан студент, или курс не найден.')\n",
        "\n",
        "class Mentor:\n",
        "  def __init__(self, name, surname):\n",
        "    self.name = name\n",
        "    self.surname = surname\n",
        "    self.courses_attached = []\n",
        "\n",
        "class Lecturer(Mentor):\n",
        "  def __init__(self, name, surname):\n",
        "    super().__init__(name, surname)\n",
        "    self.grades = {}\n",
        "\n",
        "  def get_grades(self, course):\n",
        "    return self.grades.get(course.code(), [])\n",
        "\n",
        "  def __str__(self):\n",
        "    return f'Имя: {self.name}\\nФамилия: {self.surname}'\n",
        "\n",
        "class Reviewer(Mentor):\n",
        "  def set_grades(self, student, course, grade):\n",
        "    if course in student.get_courses() and 1 <= grade <= 10:\n",
        "        if course.code() not in student.grades:\n",
        "            student.grades[course.code()] = []\n",
        "        student.grades[course.code()].append(grade)\n",
        "    else:\n",
        "        print('Ошибка, курс не совпадает, или оценка вне диапазона 1-10.')\n",
        "\n",
        "  def __str__(self):\n",
        "    return f'Имя: {self.name}\\nФамилия: {self.surname}'\n",
        "\n",
        "python_course = Course(Lecturer('Андрей', 'Владимирович'), 'PythonForEGE2025')\n",
        "java_course = Course(Lecturer('Джава', 'Мейкер'), 'JavaForBackend')\n",
        "web_course = Course(Lecturer('Светлана', 'Ивановна'), 'WebDevelopment')\n",
        "\n",
        "Billy = Student('Billy', 'Iop', 'Male')\n",
        "Jeny = Student('Jeny', 'Lopi', 'Female')\n",
        "Stas = Student('Stas', 'Kop', 'Male')\n",
        "Alice = Student('Alice', 'Smith', 'Female')\n",
        "Bob = Student('Bob', 'Brown', 'Male')\n",
        "\n",
        "Billy.add_courses(python_course)\n",
        "Jeny.add_courses(python_course)\n",
        "Stas.add_courses(java_course)\n",
        "Alice.add_courses(web_course)\n",
        "Bob.add_courses(java_course)\n",
        "\n",
        "reviewer = Reviewer('Иван', 'Петров')\n",
        "reviewer.set_grades(Billy, python_course, 8)\n",
        "reviewer.set_grades(Jeny, python_course, 9)\n",
        "\n",
        "lecturer_python = python_course.instructor()\n",
        "Billy.rate_lecturer(lecturer_python, python_course, 10)\n",
        "Jeny.rate_lecturer(lecturer_python, python_course, 9)\n",
        "\n",
        "print('Студенты на курсе Python:')\n",
        "print([(student.get_name(), student.get_surname()) for student in python_course.list_students()])\n",
        "\n",
        "print('Оценки студента Billy:')\n",
        "print(Billy.get_grades(python_course))\n",
        "\n",
        "print('Оценки лектора Python:')\n",
        "print(lecturer_python.get_grades(python_course))"
      ],
      "metadata": {
        "id": "U30yyvuirv6H",
        "outputId": "285c24b3-5a13-4129-b2e4-f4f071257ea6",
        "colab": {
          "base_uri": "https://localhost:8080/"
        }
      },
      "execution_count": null,
      "outputs": [
        {
          "output_type": "stream",
          "name": "stdout",
          "text": [
            "Студенты на курсе Python:\n",
            "[('Billy', 'Iop'), ('Jeny', 'Lopi')]\n",
            "Оценки студента Billy:\n",
            "[8]\n",
            "Оценки лектора Python:\n",
            "[10, 9]\n"
          ]
        }
      ]
    },
    {
      "cell_type": "markdown",
      "source": [
        "### **3.3. Полиморфизм и магические методы**"
      ],
      "metadata": {
        "id": "i6PrwEBSu39u"
      }
    },
    {
      "cell_type": "markdown",
      "source": [
        "Перегрузите магический метод \\_\\_str__ у всех классов.\n",
        "У проверяющих он должен выводить информацию в следующем виде:\n",
        "\n",
        "\n",
        "\n",
        "```\n",
        "print(some_reviewer)\n",
        "Имя: Some\n",
        "Фамилия: Buddy\n",
        "```\n",
        "\n",
        "У лекторов:\n",
        "\n",
        "\n",
        "\n",
        "```\n",
        "print(some_lecturer)\n",
        "Имя: Some\n",
        "Фамилия: Buddy\n",
        "Средняя оценка за лекции: 9.9\n",
        "```\n",
        "\n",
        "А у студентов так:\n",
        "\n",
        "\n",
        "\n",
        "```\n",
        "print(some_student)\n",
        "Имя: Ruoy\n",
        "Фамилия: Eman\n",
        "Средняя оценка за домашние задания: 9.9\n",
        "Курсы в процессе изучения: Python, Git\n",
        "Завершенные курсы: Введение в программирование\n",
        "```\n",
        "\n",
        "\n",
        "\n"
      ],
      "metadata": {
        "id": "GvmtjlnmvF8b"
      }
    },
    {
      "cell_type": "code",
      "source": [
        "class Course:\n",
        "  def __init__(self, lecturer, course_code):\n",
        "    self.lecturer = lecturer\n",
        "    self.course_code = course_code\n",
        "    self.student_list = []\n",
        "    self.finished = False\n",
        "    self.lecturer.courses_attached.append(self.course_code)\n",
        "\n",
        "  def get_id(self):\n",
        "    return self.course_code\n",
        "\n",
        "  def get_lecturer(self):\n",
        "    return self.lecturer\n",
        "\n",
        "  def is_finished(self):\n",
        "    return self.finished\n",
        "\n",
        "  def set_finished(self, state):\n",
        "    self.finished = state\n",
        "\n",
        "  def get_students(self):\n",
        "    return self.student_list\n",
        "\n",
        "  def add_student(self, student):\n",
        "    if student not in self.student_list:\n",
        "        self.student_list.append(student)\n",
        "\n",
        "class Student:\n",
        "  def __init__(self, name, surname, gender):\n",
        "    self.name = name\n",
        "    self.surname = surname\n",
        "    self.gender = gender\n",
        "    self.courses = []\n",
        "    self.grades = {}\n",
        "\n",
        "  def __str__(self):\n",
        "    completed_courses = [course.get_id() for course in self.courses if course.is_finished()]\n",
        "    ongoing_courses = [course.get_id() for course in self.courses if not course.is_finished()]\n",
        "    all_grades = [grade for grades in self.grades.values() for grade in grades]\n",
        "    average_grade = sum(all_grades) / len(all_grades) if all_grades else 0\n",
        "    return (f\"Имя: {self.name}\\n\"\n",
        "            f\"Фамилия: {self.surname}\\n\"\n",
        "            f\"Средняя оценка за домашние задания: {average_grade:.1f}\\n\"\n",
        "            f\"Курсы в процессе изучения: {', '.join(ongoing_courses) or 'Нет'}\\n\"\n",
        "            f\"Завершенные курсы: {', '.join(completed_courses) or 'Нет'}\")\n",
        "\n",
        "  def add_courses(self, course):\n",
        "    course.add_student(self)\n",
        "    self.courses.append(course)\n",
        "\n",
        "  def get_grades(self, course):\n",
        "    return self.grades.get(course.get_id(), [])\n",
        "\n",
        "  def add_grade(self, course, grade):\n",
        "    if 1 <= grade <= 10:\n",
        "        current_grades = self.grades.get(course.get_id(), [])\n",
        "        current_grades.append(grade)\n",
        "        self.grades[course.get_id()] = current_grades\n",
        "    else:\n",
        "        print(\"Ошибка, оценка должна быть в диапазоне от 1 до 10.\")\n",
        "\n",
        "  def set_grade_lecturer(self, course, grade):\n",
        "    if self not in course.get_students():\n",
        "        print(\"Вы не можете оценивать этого преподавателя, так как вы не записаны на курс.\")\n",
        "        return\n",
        "    if 1 <= grade <= 10:\n",
        "        course.get_lecturer().set_grade(course, grade)\n",
        "    else:\n",
        "        print(\"Ошибка, оценка должна быть в диапазоне от 1 до 10.\")\n",
        "\n",
        "class Mentor:\n",
        "  def __init__(self, name, surname):\n",
        "    self.name = name\n",
        "    self.surname = surname\n",
        "    self.courses_attached = []\n",
        "\n",
        "class Lecturer(Mentor):\n",
        "  def __init__(self, name, surname):\n",
        "    super().__init__(name, surname)\n",
        "    self.grades = {}\n",
        "\n",
        "  def __str__(self):\n",
        "    all_grades = [grade for grades in self.grades.values() for grade in grades]\n",
        "    average_grade = sum(all_grades) / len(all_grades) if all_grades else 0\n",
        "    return (f\"Имя: {self.name}\\n\"\n",
        "            f\"Фамилия: {self.surname}\\n\"\n",
        "            f\"Средняя оценка за лекции: {average_grade:.1f}\")\n",
        "\n",
        "  def set_grade(self, course, grade):\n",
        "    if 1 <= grade <= 10:\n",
        "        current_grades = self.grades.get(course.get_id(), [])\n",
        "        current_grades.append(grade)\n",
        "        self.grades[course.get_id()] = current_grades\n",
        "    else:\n",
        "        print(\"Ошибка, оценка должна быть в диапазоне от 1 до 10.\")\n",
        "\n",
        "class Reviewer(Mentor):\n",
        "  def __str__(self):\n",
        "    return f\"Имя: {self.name}\\nФамилия: {self.surname}\"\n",
        "\n",
        "  def set_grades(self, student, course, grade):\n",
        "    if course in student.courses and 1 <= grade <= 10:\n",
        "        current_grades = student.grades.get(course.get_id(), [])\n",
        "        current_grades.append(grade)\n",
        "        student.grades[course.get_id()] = current_grades\n",
        "    else:\n",
        "        print(\"Ошибка, курс не совпадает, или оценка вне диапазона 1-10.\")\n",
        "\n",
        "python_course = Course(Lecturer('Андрей', 'Владимирович'), 'PythonForEGE2025')\n",
        "java_course = Course(Lecturer('Джава', 'Мейкер'), 'JavaForBackend')\n",
        "reviewer = Reviewer('John', 'Smith')\n",
        "\n",
        "Billy = Student('Billy', 'Iop', 'Male')\n",
        "Jeny = Student('Jeny', 'Lopi', 'Female')\n",
        "Stas = Student('Stas', 'Kop', 'Male')\n",
        "\n",
        "Billy.add_courses(python_course)\n",
        "Jeny.add_courses(python_course)\n",
        "Stas.add_courses(java_course)\n",
        "\n",
        "reviewer.set_grades(Billy, python_course, 8)\n",
        "reviewer.set_grades(Billy, python_course, 9)\n",
        "Billy.set_grade_lecturer(python_course, 10)\n",
        "\n",
        "print(python_course.get_lecturer())\n",
        "print(Billy)\n",
        "print(reviewer)"
      ],
      "metadata": {
        "id": "gCJAL_EmwU0b",
        "colab": {
          "base_uri": "https://localhost:8080/"
        },
        "outputId": "533645d6-442c-4ad9-8a8d-637f4355133e"
      },
      "execution_count": null,
      "outputs": [
        {
          "output_type": "stream",
          "name": "stdout",
          "text": [
            "Имя: Андрей\n",
            "Фамилия: Владимирович\n",
            "Средняя оценка за лекции: 10.0\n",
            "Имя: Billy\n",
            "Фамилия: Iop\n",
            "Средняя оценка за домашние задания: 8.5\n",
            "Курсы в процессе изучения: PythonForEGE2025\n",
            "Завершенные курсы: Нет\n",
            "Имя: John\n",
            "Фамилия: Smith\n"
          ]
        }
      ]
    },
    {
      "cell_type": "markdown",
      "source": [
        "**Реализуйте перегрузку других магических методов на Ваш выбор (не менее трёх), руководствуясь по смыслу контекстом представленных классов (студенты, преподаватели, оценки и т.д.)**"
      ],
      "metadata": {
        "id": "1DNE4TE3vfYI"
      }
    },
    {
      "cell_type": "code",
      "source": [
        "class Course:\n",
        "  def __init__(self, lecturer, course_code):\n",
        "    self.lecturer = lecturer\n",
        "    self.course_code = course_code\n",
        "    self.student_list = []\n",
        "    self.finished = False\n",
        "    self.lecturer.courses_attached.append(self.course_code)\n",
        "\n",
        "  def get_id(self):\n",
        "    return self.course_code\n",
        "\n",
        "  def get_lecturer(self):\n",
        "    return self.lecturer\n",
        "\n",
        "  def is_finished(self):\n",
        "    return self.finished\n",
        "\n",
        "  def set_finished(self, state):\n",
        "    self.finished = state\n",
        "\n",
        "  def get_students(self):\n",
        "    return self.student_list\n",
        "\n",
        "  def add_student(self, student):\n",
        "    if student not in self.student_list:\n",
        "        self.student_list.append(student)\n",
        "\n",
        "class Student:\n",
        "  def __init__(self, name, surname, gender):\n",
        "    self.name = name\n",
        "    self.surname = surname\n",
        "    self.gender = gender\n",
        "    self.courses = []\n",
        "    self.grades = {}\n",
        "\n",
        "  def __str__(self):\n",
        "    completed_courses = [course.get_id() for course in self.courses if course.is_finished()]\n",
        "    ongoing_courses = [course.get_id() for course in self.courses if not course.is_finished()]\n",
        "    all_grades = [grade for grades in self.grades.values() for grade in grades]\n",
        "    average_grade = sum(all_grades) / len(all_grades) if all_grades else 0\n",
        "    return (f\"Имя: {self.name}\\n\"\n",
        "            f\"Фамилия: {self.surname}\\n\"\n",
        "            f\"Средняя оценка за домашние задания: {average_grade:.1f}\\n\"\n",
        "            f\"Курсы в процессе изучения: {', '.join(ongoing_courses) or 'Нет'}\\n\"\n",
        "            f\"Завершенные курсы: {', '.join(completed_courses) or 'Нет'}\")\n",
        "\n",
        "  def __lt__(self, other):\n",
        "    return self.average_grade() < other.average_grade()\n",
        "\n",
        "  def __eq__(self, other):\n",
        "    return (\n",
        "        self.name == other.name and\n",
        "        self.surname == other.surname and\n",
        "        set(course.get_id() for course in self.courses) ==\n",
        "        set(course.get_id() for course in other.courses)\n",
        "    )\n",
        "\n",
        "  def __add__(self, other):\n",
        "    combined_courses = self.courses + [\n",
        "        course for course in other.courses if course not in self.courses\n",
        "    ]\n",
        "    new_student = Student(self.name, self.surname, self.gender)\n",
        "    new_student.courses = combined_courses\n",
        "    return new_student\n",
        "\n",
        "  def average_grade(self):\n",
        "    all_grades = [grade for grades in self.grades.values() for grade in grades]\n",
        "    return sum(all_grades) / len(all_grades) if all_grades else 0\n",
        "\n",
        "  def add_courses(self, course):\n",
        "    course.add_student(self)\n",
        "    self.courses.append(course)\n",
        "\n",
        "  def get_grades(self, course):\n",
        "    return self.grades.get(course.get_id(), [])\n",
        "\n",
        "  def add_grade(self, course, grade):\n",
        "    if 1 <= grade <= 10:\n",
        "        current_grades = self.grades.get(course.get_id(), [])\n",
        "        current_grades.append(grade)\n",
        "        self.grades[course.get_id()] = current_grades\n",
        "    else:\n",
        "        print(\"Ошибка, оценка должна быть в диапазоне от 1 до 10.\")\n",
        "\n",
        "  def set_grade_lecturer(self, course, grade):\n",
        "    if self not in course.get_students():\n",
        "        print(\"Вы не можете оценивать этого преподавателя, так как вы не записаны на курс.\")\n",
        "        return\n",
        "    if 1 <= grade <= 10:\n",
        "        course.get_lecturer().set_grade(course, grade)\n",
        "    else:\n",
        "        print(\"Ошибка, оценка должна быть в диапазоне от 1 до 10.\")\n",
        "\n",
        "class Mentor:\n",
        "  def __init__(self, name, surname):\n",
        "    self.name = name\n",
        "    self.surname = surname\n",
        "    self.courses_attached = []\n",
        "\n",
        "class Lecturer(Mentor):\n",
        "  def __init__(self, name, surname):\n",
        "    super().__init__(name, surname)\n",
        "    self.grades = {}\n",
        "\n",
        "  def __str__(self):\n",
        "    all_grades = [grade for grades in self.grades.values() for grade in grades]\n",
        "    average_grade = sum(all_grades) / len(all_grades) if all_grades else 0\n",
        "    return (f\"Имя: {self.name}\\n\"\n",
        "            f\"Фамилия: {self.surname}\\n\"\n",
        "            f\"Средняя оценка за лекции: {average_grade:.1f}\")\n",
        "\n",
        "  def __lt__(self, other):\n",
        "    return self.average_grade() < other.average_grade()\n",
        "\n",
        "  def __eq__(self, other):\n",
        "    return (\n",
        "        self.name == other.name and\n",
        "        self.surname == other.surname and\n",
        "        set(self.courses_attached) == set(other.courses_attached)\n",
        "    )\n",
        "\n",
        "  def average_grade(self):\n",
        "    all_grades = [grade for grades in self.grades.values() for grade in grades]\n",
        "    return sum(all_grades) / len(all_grades) if all_grades else 0\n",
        "\n",
        "  def set_grade(self, course, grade):\n",
        "    if 1 <= grade <= 10:\n",
        "        current_grades = self.grades.get(course.get_id(), [])\n",
        "        current_grades.append(grade)\n",
        "        self.grades[course.get_id()] = current_grades\n",
        "    else:\n",
        "        print(\"Ошибка, оценка должна быть в диапазоне от 1 до 10.\")\n",
        "\n",
        "class Reviewer(Mentor):\n",
        "  def __str__(self):\n",
        "    return f\"Имя: {self.name}\\nФамилия: {self.surname}\"\n",
        "\n",
        "  def set_grades(self, student, course, grade):\n",
        "    if course in student.courses and 1 <= grade <= 10:\n",
        "        current_grades = student.grades.get(course.get_id(), [])\n",
        "        current_grades.append(grade)\n",
        "        student.grades[course.get_id()] = current_grades\n",
        "    else:\n",
        "        print(\"Ошибка, курс не совпадает, или оценка вне диапазона 1-10.\")\n",
        "\n",
        "python_course = Course(Lecturer('Андрей', 'Владимирович'), 'PythonForEGE2025')\n",
        "java_course = Course(Lecturer('Джава', 'Мейкер'), 'JavaForBackend')\n",
        "reviewer = Reviewer('John', 'Smith')\n",
        "\n",
        "Billy = Student('Billy', 'Iop', 'Male')\n",
        "Jeny = Student('Jeny', 'Lopi', 'Female')\n",
        "\n",
        "Billy.add_courses(python_course)\n",
        "Jeny.add_courses(python_course)\n",
        "\n",
        "reviewer.set_grades(Billy, python_course, 8)\n",
        "reviewer.set_grades(Jeny, python_course, 9)\n",
        "print(Billy < Jeny)\n",
        "\n",
        "lecturer_python = python_course.get_lecturer()\n",
        "lecturer_java = java_course.get_lecturer()\n",
        "lecturer_python.set_grade(python_course, 10)\n",
        "print(lecturer_python > lecturer_java)\n",
        "\n",
        "new_student = Billy + Jeny\n",
        "print(new_student)"
      ],
      "metadata": {
        "id": "WNCf9PPMu4Gv",
        "colab": {
          "base_uri": "https://localhost:8080/"
        },
        "outputId": "b12e45dc-962e-4fb1-bf6e-7fc7ad54c68e"
      },
      "execution_count": null,
      "outputs": [
        {
          "output_type": "stream",
          "name": "stdout",
          "text": [
            "True\n",
            "True\n",
            "Имя: Billy\n",
            "Фамилия: Iop\n",
            "Средняя оценка за домашние задания: 0.0\n",
            "Курсы в процессе изучения: PythonForEGE2025\n",
            "Завершенные курсы: Нет\n"
          ]
        }
      ]
    },
    {
      "cell_type": "markdown",
      "source": [
        "### **3.4. Тестирование**\n",
        "\n",
        "Создайте по 2 экземпляра каждого класса, вызовите все созданные методы, а также реализуйте две функции:\n",
        "\n",
        "* для подсчета средней оценки за домашние задания по всем студентам в рамках конкретного курса (в качестве аргументов принимаем список студентов и название курса);\n",
        "* для подсчета средней оценки за лекции всех лекторов в рамках курса (в качестве аргумента принимаем список лекторов и название курса)."
      ],
      "metadata": {
        "id": "X8xvLNT6u4Nn"
      }
    },
    {
      "cell_type": "code",
      "source": [
        "class Course:\n",
        "  def __init__(self, course_code):\n",
        "    self.course_code = course_code\n",
        "    self.student_list = []\n",
        "    self.lecturer_list = []\n",
        "\n",
        "  def add_student(self, student):\n",
        "    self.student_list.append(student)\n",
        "\n",
        "  def add_lecturer(self, lecturer):\n",
        "    self.lecturer_list.append(lecturer)\n",
        "\n",
        "  def __str__(self):\n",
        "    return f\"Курс: {self.course_code}\"\n",
        "\n",
        "class Student:\n",
        "  def __init__(self, name, surname):\n",
        "    self.name = name\n",
        "    self.surname = surname\n",
        "    self.courses = {}\n",
        "    self.grades = {}\n",
        "\n",
        "  def add_course(self, course):\n",
        "    self.courses[course.course_code] = course\n",
        "    course.add_student(self)\n",
        "\n",
        "  def add_grade(self, course_code, grade):\n",
        "    if course_code not in self.grades:\n",
        "        self.grades[course_code] = []\n",
        "    self.grades[course_code].append(grade)\n",
        "\n",
        "  def get_average_grade_by_course(self, course_code):\n",
        "    grades = self.grades.get(course_code, [])\n",
        "    return sum(grades) / len(grades) if grades else 0\n",
        "\n",
        "  def __str__(self):\n",
        "    courses_str = \", \".join(self.courses.keys())\n",
        "    return (f\"Имя: {self.name}\\n\"\n",
        "            f\"Фамилия: {self.surname}\\n\"\n",
        "            f\"Курсы: {courses_str}\\n\"\n",
        "            f\"Оценки: {self.grades}\")\n",
        "\n",
        "class Lecturer:\n",
        "  def __init__(self, name, surname):\n",
        "    self.name = name\n",
        "    self.surname = surname\n",
        "    self.courses = {}\n",
        "    self.grades = {}\n",
        "\n",
        "  def add_course(self, course):\n",
        "    self.courses[course.course_code] = course\n",
        "    course.add_lecturer(self)\n",
        "\n",
        "  def add_grade(self, course_code, grade):\n",
        "    if course_code not in self.grades:\n",
        "        self.grades[course_code] = []\n",
        "    self.grades[course_code].append(grade)\n",
        "\n",
        "  def get_average_grade_by_course(self, course_code):\n",
        "    grades = self.grades.get(course_code, [])\n",
        "    return sum(grades) / len(grades) if grades else 0\n",
        "\n",
        "  def __str__(self):\n",
        "    return (f\"Имя: {self.name}\\n\"\n",
        "            f\"Фамилия: {self.surname}\\n\"\n",
        "            f\"Оценки: {self.grades}\")\n",
        "\n",
        "def average_student_grades(students, course_code):\n",
        "  course_grades = [student.get_average_grade_by_course(course_code) for student in students]\n",
        "  return sum(course_grades) / len(course_grades) if course_grades else 0\n",
        "\n",
        "\n",
        "def average_lecturer_grades(lecturers, course_code):\n",
        "  course_grades = [lecturer.get_average_grade_by_course(course_code) for lecturer in lecturers]\n",
        "  return sum(course_grades) / len(course_grades) if course_grades else 0\n",
        "\n",
        "python_course = Course(\"Python\")\n",
        "java_course = Course(\"Java\")\n",
        "\n",
        "student1 = Student(\"Alice\", \"Smith\")\n",
        "student2 = Student(\"Bob\", \"Brown\")\n",
        "\n",
        "student1.add_course(python_course)\n",
        "student1.add_grade(\"Python\", 6)\n",
        "student1.add_grade(\"Python\", 8)\n",
        "\n",
        "student2.add_course(python_course)\n",
        "student2.add_grade(\"Python\", 9)\n",
        "student2.add_grade(\"Python\", 9)\n",
        "\n",
        "student2.add_course(java_course)\n",
        "student2.add_grade(\"Java\", 4)\n",
        "\n",
        "lecturer1 = Lecturer(\"Dr. John\", \"Doe\")\n",
        "lecturer2 = Lecturer(\"Prof. Jane\", \"Roe\")\n",
        "\n",
        "lecturer1.add_course(python_course)\n",
        "lecturer1.add_grade(\"Python\", 8)\n",
        "lecturer1.add_grade(\"Python\", 9)\n",
        "\n",
        "lecturer2.add_course(java_course)\n",
        "lecturer2.add_grade(\"Java\", 8)\n",
        "lecturer2.add_grade(\"Java\", 7)\n",
        "\n",
        "print(f\"Студенты курса {python_course.course_code}:\")\n",
        "for student in python_course.student_list:\n",
        "  print(f\"{student.name} {student.surname}, средняя оценка: {student.get_average_grade_by_course('Python'):.2f}\")\n",
        "\n",
        "print(f\"\\nПреподаватели курса {python_course.course_code}:\")\n",
        "for lecturer in python_course.lecturer_list:\n",
        "  print(f\"{lecturer.name} {lecturer.surname}, средняя оценка: {lecturer.get_average_grade_by_course('Python'):.2f}\")\n",
        "\n",
        "print(f\"\\nСредняя оценка всех студентов по курсу {python_course.course_code}: {average_student_grades(python_course.student_list, 'Python'):.2f}\")\n",
        "print(f\"Средняя оценка всех преподавателей по курсу {python_course.course_code}: {average_lecturer_grades(python_course.lecturer_list, 'Python'):.2f}\")\n",
        "\n",
        "print(f\"\\nСредняя оценка всех студентов по курсу {java_course.course_code}: {average_student_grades(java_course.student_list, 'Java'):.2f}\")\n",
        "print(f\"Средняя оценка всех преподавателей по курсу {java_course.course_code}: {average_lecturer_grades(java_course.lecturer_list, 'Java'):.2f}\")"
      ],
      "metadata": {
        "id": "uh8n08fdu4V_",
        "outputId": "ee71fa78-07b4-4f95-bf6d-0d56792570d0",
        "colab": {
          "base_uri": "https://localhost:8080/"
        }
      },
      "execution_count": 3,
      "outputs": [
        {
          "output_type": "stream",
          "name": "stdout",
          "text": [
            "Студенты курса Python:\n",
            "Alice Smith, средняя оценка: 7.00\n",
            "Bob Brown, средняя оценка: 9.00\n",
            "\n",
            "Преподаватели курса Python:\n",
            "Dr. John Doe, средняя оценка: 8.50\n",
            "\n",
            "Средняя оценка всех студентов по курсу Python: 8.00\n",
            "Средняя оценка всех преподавателей по курсу Python: 8.50\n",
            "\n",
            "Средняя оценка всех студентов по курсу Java: 4.00\n",
            "Средняя оценка всех преподавателей по курсу Java: 7.50\n"
          ]
        }
      ]
    },
    {
      "cell_type": "markdown",
      "source": [
        "## **Задание №4. Перегрузка операторов с помощью магических методов**\n"
      ],
      "metadata": {
        "id": "ehfo80anwJUM"
      }
    },
    {
      "cell_type": "markdown",
      "source": [
        "### **Цель задания:**\n",
        "\n"
      ],
      "metadata": {
        "id": "i_KsKg4awZOJ"
      }
    },
    {
      "cell_type": "markdown",
      "source": [
        "Разработать класс `Fraction` для работы с рациональными числами (дробями), реализовав перегрузку стандартных операторов через переопределение соответствующих магических методов. Ваша задача — обеспечить класс `Fraction` функциональностью, демонстрируемой в приведенном примере кода."
      ],
      "metadata": {
        "id": "JvIIB641watq"
      }
    },
    {
      "cell_type": "markdown",
      "source": [
        "### **Описание задания:**\n",
        "\n"
      ],
      "metadata": {
        "id": "BZ9kMLrYwcW_"
      }
    },
    {
      "cell_type": "markdown",
      "source": [
        "Создайте класс `Fraction`, который представляет собой обыкновенную дробь с числителем и знаменателем. Перегрузите основные арифметические операторы для выполнения операций над дробями, а также операторы сравнения. Обеспечьте возможность преобразования дроби в число с плавающей точкой и обратную операцию. Реализуйте обработку исключений при некорректных данных. Предоставьте понятное строковое и официальное представление дроби."
      ],
      "metadata": {
        "id": "6Qt56A-Bwe87"
      }
    },
    {
      "cell_type": "markdown",
      "source": [
        "**Требования к заданию:**\n"
      ],
      "metadata": {
        "id": "1lv3NnB_whqP"
      }
    },
    {
      "cell_type": "markdown",
      "source": [
        "\n",
        "1. **Класс `Fraction` должен:**\n",
        "\n",
        "   - Инициализироваться двумя целыми числами: числителем и знаменателем.\n",
        "   - Обрабатывать ситуацию когда знаменатель равен нулю, а именно выводить сообщение `\"Знаменатель не может быть нулем\"`.\n",
        "   - Упрощать дроби до несократимых при создании и после каждой арифметической операции.\n",
        "\n",
        "2. **Перегрузить следующие операторы путем переопределения магических методов:**\n",
        "\n",
        "   - **Сложение `+`** (`__add__`): сложение двух дробей, возвращает новую дробь.\n",
        "   - **Вычитание `-`** (`__sub__`): вычитание одной дроби из другой, возвращает новую дробь.\n",
        "   - **Умножение `*`** (`__mul__`): умножение двух дробей, возвращает новую дробь.\n",
        "   - **Деление `/`** (`__truediv__`): деление одной дроби на другую, возвращает новую дробь.\n",
        "   - **Равенство `==`** (`__eq__`): проверка равенства двух дробей.\n",
        "   - **Сравнения `>`, `<`, `>=`, `<=`**: сравнение дробей по их значению, реализовать методы `__lt__`, `__le__`, `__gt__`, `__ge__`.\n",
        "\n",
        "3. **Реализовать преобразование типов:**\n",
        "\n",
        "   - **Метод `__float__`**: преобразование дроби в число с плавающей точкой.\n",
        "\n",
        "4. **Дополнительные методы класса:**\n",
        "\n",
        "   - **`reciprocal()`**: возвращает новую дробь, обратную данной (числитель и знаменатель меняются местами).\n",
        "   - **Строковое представление** (`__str__`): возвращает строку вида `\"числитель/знаменатель\"`. Если знаменатель равен 1, возвращает только числитель в виде строки.\n",
        "   - **Официальное представление** (`__repr__`): возвращает строку вида `\"Fraction(числитель, знаменатель)\"`.\n",
        "\n",
        "5. **Обработка исключений:**\n",
        "\n",
        "   - При попытке создать дробь с нулевым знаменателем выводить в консоль сообщение `ValueError`.\n",
        "   - При попытке деления на нулевую дробь, выводить в консоль сообщение `ZeroDivisionError`.\n",
        "\n",
        "6. **Тестирование:**\n",
        "\n",
        "   - Написать код, демонстрирующий работу всех реализованных методов и операторов, используя примеры, приведенные ниже.\n",
        "   - Обеспечить корректную обработку исключений и вывод соответствующих сообщений.\n",
        "\n",
        "\n",
        "\n"
      ],
      "metadata": {
        "id": "4tJX8suPv0TY"
      }
    },
    {
      "cell_type": "code",
      "source": [
        "from math import gcd\n",
        "\n",
        "class Fraction:\n",
        "  def __init__(self, numerator, denominator):\n",
        "    if denominator == 0:\n",
        "      raise ValueError(\"Знаменатель не может быть нулем.\")\n",
        "    self.numerator = numerator\n",
        "    self.denominator = denominator\n",
        "    self._simplify()\n",
        "\n",
        "  def _simplify(self):\n",
        "    common = gcd(self.numerator, self.denominator)\n",
        "    self.numerator //= common\n",
        "    self.denominator //= common\n",
        "    if self.denominator < 0:\n",
        "        self.numerator *= -1\n",
        "        self.denominator *= -1\n",
        "\n",
        "  def __add__(self, other):\n",
        "    if isinstance(other, Fraction):\n",
        "        numerator = self.numerator * other.denominator + other.numerator * self.denominator\n",
        "        denominator = self.denominator * other.denominator\n",
        "        return Fraction(numerator, denominator)\n",
        "    return NotImplemented\n",
        "\n",
        "  def __sub__(self, other):\n",
        "    if isinstance(other, Fraction):\n",
        "        numerator = self.numerator * other.denominator - other.numerator * self.denominator\n",
        "        denominator = self.denominator * other.denominator\n",
        "        return Fraction(numerator, denominator)\n",
        "    return NotImplemented\n",
        "\n",
        "  def __mul__(self, other):\n",
        "    if isinstance(other, Fraction):\n",
        "        numerator = self.numerator * other.numerator\n",
        "        denominator = self.denominator * other.denominator\n",
        "        return Fraction(numerator, denominator)\n",
        "    return NotImplemented\n",
        "\n",
        "  def __truediv__(self, other):\n",
        "    if isinstance(other, Fraction):\n",
        "        if other.numerator == 0:\n",
        "            raise ZeroDivisionError(\"Деление на нулевую дробь.\")\n",
        "        numerator = self.numerator * other.denominator\n",
        "        denominator = self.denominator * other.numerator\n",
        "        return Fraction(numerator, denominator)\n",
        "    return NotImplemented\n",
        "\n",
        "  def __eq__(self, other):\n",
        "    if isinstance(other, Fraction):\n",
        "        return self.numerator == other.numerator and self.denominator == other.denominator\n",
        "    return NotImplemented\n",
        "\n",
        "  def __lt__(self, other):\n",
        "    if isinstance(other, Fraction):\n",
        "        return self.numerator * other.denominator < other.numerator * self.denominator\n",
        "    return NotImplemented\n",
        "\n",
        "  def __le__(self, other):\n",
        "    if isinstance(other, Fraction):\n",
        "        return self.numerator * other.denominator <= other.numerator * self.denominator\n",
        "    return NotImplemented\n",
        "\n",
        "  def __gt__(self, other):\n",
        "    if isinstance(other, Fraction):\n",
        "        return self.numerator * other.denominator > other.numerator * self.denominator\n",
        "    return NotImplemented\n",
        "\n",
        "  def __ge__(self, other):\n",
        "    if isinstance(other, Fraction):\n",
        "        return self.numerator * other.denominator >= other.numerator * self.denominator\n",
        "    return NotImplemented\n",
        "\n",
        "  def __float__(self):\n",
        "    return self.numerator / self.denominator\n",
        "\n",
        "  def reciprocal(self):\n",
        "    if self.numerator == 0:\n",
        "        raise ZeroDivisionError(\"Обратная дробь не существует для дроби с числителем 0.\")\n",
        "    return Fraction(self.denominator, self.numerator)\n",
        "\n",
        "  @classmethod\n",
        "  def from_float(cls, value):\n",
        "    if not isinstance(value, float):\n",
        "        raise TypeError(\"Аргумент должен быть числом с плавающей точкой.\")\n",
        "    denominator = 10 ** len(str(value).split(\".\")[1])\n",
        "    numerator = int(value * denominator)\n",
        "    return cls(numerator, denominator)\n",
        "\n",
        "  def __str__(self):\n",
        "    if self.denominator == 1:\n",
        "        return str(self.numerator)\n",
        "    return f\"{self.numerator}/{self.denominator}\"\n",
        "\n",
        "  def __repr__(self):\n",
        "    return f\"Fraction({self.numerator}, {self.denominator})\""
      ],
      "metadata": {
        "id": "58JlCtFkxpmU"
      },
      "execution_count": 4,
      "outputs": []
    },
    {
      "cell_type": "markdown",
      "source": [
        "**Тесты для класса `Fraction`:**\n"
      ],
      "metadata": {
        "id": "N5tZxFvIxdIy"
      }
    },
    {
      "cell_type": "code",
      "source": [
        "# Создание дробей\n",
        "f1 = Fraction(3, 4)\n",
        "f2 = Fraction(5, 6)\n",
        "\n",
        "# Сложение дробей\n",
        "f3 = f1 + f2\n",
        "print(f3)  # Ожидаемый вывод: 19/12\n",
        "\n",
        "# Вычитание дробей\n",
        "f4 = f1 - f2\n",
        "print(f4)  # Ожидаемый вывод: -1/12\n",
        "\n",
        "# Умножение дробей\n",
        "f5 = f1 * f2\n",
        "print(f5)  # Ожидаемый вывод: 5/8\n",
        "\n",
        "# Деление дробей\n",
        "f6 = f1 / f2\n",
        "print(f6)  # Ожидаемый вывод: 9/10\n",
        "\n",
        "# Проверка равенства\n",
        "print(f1 == Fraction(6, 8))   # Ожидаемый вывод: True\n",
        "\n",
        "# Сравнение дробей\n",
        "print(f1 > f2)    # Ожидаемый вывод: False\n",
        "print(f1 < f2)    # Ожидаемый вывод: True\n",
        "\n",
        "# Преобразование к float\n",
        "print(float(f1))  # Ожидаемый вывод: 0.75\n",
        "\n",
        "# Обратная дробь\n",
        "f7 = f1.reciprocal()\n",
        "print(f7)         # Ожидаемый вывод: 4/3\n",
        "\n",
        "# Создание дроби из float\n",
        "f8 = Fraction.from_float(0.75)\n",
        "print(f8)         # Ожидаемый вывод: 3/4\n",
        "\n",
        "# Проверка обработки исключений\n",
        "try:\n",
        "    f_invalid = Fraction(5, 0)\n",
        "except ValueError as e:\n",
        "    print(e)  # Ожидаемый вывод: Знаменатель не может быть нулем\n",
        "\n",
        "# Строковое и официальное представление\n",
        "print(str(f1))    # Ожидаемый вывод: 3/4\n",
        "print(repr(f1))   # Ожидаемый вывод: Fraction(3, 4)"
      ],
      "metadata": {
        "id": "U1UtgDM0xlqJ",
        "outputId": "285e68e5-d101-45c3-f5e3-499c762c8e04",
        "colab": {
          "base_uri": "https://localhost:8080/"
        }
      },
      "execution_count": 5,
      "outputs": [
        {
          "output_type": "stream",
          "name": "stdout",
          "text": [
            "19/12\n",
            "-1/12\n",
            "5/8\n",
            "9/10\n",
            "True\n",
            "False\n",
            "True\n",
            "0.75\n",
            "4/3\n",
            "3/4\n",
            "Знаменатель не может быть нулем.\n",
            "3/4\n",
            "Fraction(3, 4)\n"
          ]
        }
      ]
    }
  ]
}