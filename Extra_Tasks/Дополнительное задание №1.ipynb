{
  "nbformat": 4,
  "nbformat_minor": 0,
  "metadata": {
    "colab": {
      "provenance": [],
      "authorship_tag": "ABX9TyMOWwfQh3H/3X+I9bP+2n42",
      "include_colab_link": true
    },
    "kernelspec": {
      "name": "python3",
      "display_name": "Python 3"
    },
    "language_info": {
      "name": "python"
    }
  },
  "cells": [
    {
      "cell_type": "markdown",
      "metadata": {
        "id": "view-in-github",
        "colab_type": "text"
      },
      "source": [
        "<a href=\"https://colab.research.google.com/github/runessaa/Univercity/blob/main/Extra_Tasks/%D0%94%D0%BE%D0%BF%D0%BE%D0%BB%D0%BD%D0%B8%D1%82%D0%B5%D0%BB%D1%8C%D0%BD%D0%BE%D0%B5%20%D0%B7%D0%B0%D0%B4%D0%B0%D0%BD%D0%B8%D0%B5%20%E2%84%961.ipynb\" target=\"_parent\"><img src=\"https://colab.research.google.com/assets/colab-badge.svg\" alt=\"Open In Colab\"/></a>"
      ]
    },
    {
      "cell_type": "code",
      "execution_count": 7,
      "metadata": {
        "colab": {
          "base_uri": "https://localhost:8080/"
        },
        "id": "JjRGfHFdcTxN",
        "outputId": "e2ff75c7-4ef3-48ed-f14a-80a8a80c6652"
      },
      "outputs": [
        {
          "output_type": "stream",
          "name": "stdout",
          "text": [
            "Компьютер загадал число: (40)\n",
            "Ввод пользователя: \n",
            "20\n",
            "Ваше число меньше!\n",
            "Ввод пользователя: \n",
            "41\n",
            "Ваше число больше!\n",
            "Ввод пользователя: \n",
            "аолуао\n",
            "Вы ввели не число.\n",
            "Ввод пользователя: \n",
            "40\n",
            "Поздравляем! Вы угадали число за 3 попытки!\n"
          ]
        }
      ],
      "source": [
        "import random\n",
        "x = random.randrange(1, 100)\n",
        "c = 1\n",
        "print(f'Компьютер загадал число: ({x})')\n",
        "f = True\n",
        "while f:\n",
        "  print(\"Ввод пользователя: \")\n",
        "  i = input()\n",
        "  if i.isdigit():\n",
        "    i = int(i)\n",
        "    if i > x:\n",
        "      print(\"Ваше число больше!\")\n",
        "      c += 1\n",
        "    elif i < x:\n",
        "      print(\"Ваше число меньше!\")\n",
        "      c += 1\n",
        "    elif i == x:\n",
        "      print(f'Поздравляем! Вы угадали число за {c} попытки!')\n",
        "      f = False\n",
        "    elif i.lower() == \"выход\":\n",
        "      print(\"Конец игры.\")\n",
        "      f = False\n",
        "  else:\n",
        "    print(\"Вы ввели не число.\")"
      ]
    }
  ]
}