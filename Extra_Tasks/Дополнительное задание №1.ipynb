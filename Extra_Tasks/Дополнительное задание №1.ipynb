{
  "nbformat": 4,
  "nbformat_minor": 0,
  "metadata": {
    "colab": {
      "provenance": [],
      "authorship_tag": "ABX9TyN6iVEL6Btw/TLdDGzQ5Iuu",
      "include_colab_link": true
    },
    "kernelspec": {
      "name": "python3",
      "display_name": "Python 3"
    },
    "language_info": {
      "name": "python"
    }
  },
  "cells": [
    {
      "cell_type": "markdown",
      "metadata": {
        "id": "view-in-github",
        "colab_type": "text"
      },
      "source": [
        "<a href=\"https://colab.research.google.com/github/runessaa/Univercity/blob/main/Extra_Tasks/%D0%94%D0%BE%D0%BF%D0%BE%D0%BB%D0%BD%D0%B8%D1%82%D0%B5%D0%BB%D1%8C%D0%BD%D0%BE%D0%B5%20%D0%B7%D0%B0%D0%B4%D0%B0%D0%BD%D0%B8%D0%B5%20%E2%84%961.ipynb\" target=\"_parent\"><img src=\"https://colab.research.google.com/assets/colab-badge.svg\" alt=\"Open In Colab\"/></a>"
      ]
    },
    {
      "cell_type": "code",
      "execution_count": 3,
      "metadata": {
        "colab": {
          "base_uri": "https://localhost:8080/"
        },
        "id": "JjRGfHFdcTxN",
        "outputId": "1e042f9c-3520-408f-ec88-aedcba9b23fa"
      },
      "outputs": [
        {
          "output_type": "stream",
          "name": "stdout",
          "text": [
            "Компьютер загадал число: (89)\n",
            "Ввод пользователя: \n",
            "30\n",
            "Ваше число меньше!\n",
            "99\n",
            "Ваше число больше!\n",
            "акупаук\n",
            "Вы ввели не число.\n",
            "1\n",
            "Ваше число меньше!\n",
            "89\n",
            "Поздравляем! Вы угадали число за 4 попытки!\n"
          ]
        }
      ],
      "source": [
        "import random\n",
        "x = random.randrange(1, 100)\n",
        "c = 1\n",
        "print(f'Компьютер загадал число: ({x})')\n",
        "print(\"Ввод пользователя: \")\n",
        "i = input()\n",
        "f = True\n",
        "while f == True:\n",
        "  if i.isdigit():\n",
        "    i = int(i)\n",
        "    if i > x:\n",
        "      print(\"Ваше число больше!\")\n",
        "      i = input()\n",
        "      c +=1\n",
        "    elif i < x:\n",
        "      print(\"Ваше число меньше!\")\n",
        "      i = input()\n",
        "      c +=1\n",
        "    elif i == x:\n",
        "      print(f'Поздравляем! Вы угадали число за {c} попытки!')\n",
        "      f = False\n",
        "  elif i.lower() == \"выход\":\n",
        "    print(\"Конец игры.\")\n",
        "    f = False\n",
        "  else:\n",
        "    print(\"Вы ввели не число.\")\n",
        "    i = input()"
      ]
    }
  ]
}